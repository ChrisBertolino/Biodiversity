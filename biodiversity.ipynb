{
 "cells": [
  {
   "cell_type": "markdown",
   "metadata": {
    "jp-MarkdownHeadingCollapsed": true,
    "tags": []
   },
   "source": [
    "# Project: Bio-diversity Data Analysis from the National Park Services."
   ]
  },
  {
   "cell_type": "markdown",
   "metadata": {
    "tags": []
   },
   "source": [
    "## Project Goals\n",
    "The goal of this project is to analyze biodiversity data from the National Parks Services, with respect to the conservation status of various species observed in different national park locations.\n",
    "\n",
    "**The Project Scope consists of:**\n",
    "1. Explore and Clean the Data\n",
    "2. Perform statistical Analysis on the Data\n",
    "3. Visualize the Data\n",
    "4. Seek to explore relations discovered from this analysis, with degrees of significance. \n",
    "\n",
    "## Questions to Answer\n",
    "1. How are categories of species spread over the four parks?\n",
    "2. How are individual species with unhealthy populations spread over the four parks?\n",
    "3. What categories of species have the highest rates of unhealthy populations?\n",
    "4. What is the variation of observations of individual species with unhealthy populations compared to their category mean?\n",
    "\n",
    "## Definitions\n",
    "Biodiversity refers to the variety of living species on Earth, including plants, animals, bacteria, and fungi.\n",
    "\n",
    "## Data Sources\n",
    "Both 'Observations.csv' and 'Species_info.csv' were provided by [Codecademy](https://www.codecademy.com).\n",
    "**This data is fictional. It is modeled after real-world data for the purposes of practicing data analytics.**\n",
    "\n",
    "## References\n",
    "1. Biodiversity. Education. (n.d.). Retrieved April 17, 2023, from https://education.nationalgeographic.org/resource/biodiversity/ "
   ]
  },
  {
   "cell_type": "markdown",
   "metadata": {
    "tags": []
   },
   "source": [
    "# Preparing the Data"
   ]
  },
  {
   "cell_type": "markdown",
   "metadata": {
    "jp-MarkdownHeadingCollapsed": true,
    "tags": []
   },
   "source": [
    "## Import Statements & Dataframe Creation"
   ]
  },
  {
   "cell_type": "code",
   "execution_count": 37,
   "metadata": {
    "tags": []
   },
   "outputs": [],
   "source": [
    "import pandas as pd\n",
    "import numpy as np\n",
    "from matplotlib import pyplot as plt\n",
    "import seaborn as sns\n",
    "from IPython.display import display_html\n",
    "\n",
    "%matplotlib inline\n",
    "\n",
    "species = pd.read_csv('species_info.csv',encoding='utf-8')\n",
    "observations = pd.read_csv('observations.csv', encoding='utf-8')"
   ]
  },
  {
   "cell_type": "markdown",
   "metadata": {
    "jp-MarkdownHeadingCollapsed": true,
    "tags": []
   },
   "source": [
    "## Exploring Species Dataframe"
   ]
  },
  {
   "cell_type": "markdown",
   "metadata": {},
   "source": [
    "In exploring the species dataframe, we observe this about the data:\n",
    "1. The count for the category, scientific_name, and common_names are all 5824. \n",
    "    - This implies there are no Nulls in these columns, meaning every scientific name has a corresponding common name and category.  \n",
    "2. The count for conservation_status is only 191, and there are only 4 defined categories. This shows that Nan is being used to identify species not in a conservation status.\n",
    "    - We will create a new conservation status called \"healthy_population\", and populate the NaN values with this new status. \n",
    "3. The scientific_name count does not equal the unique count. This means scientific_names, which should be unique, are being repeated. \n",
    "    - This may be acceptable with common_names, as similar but unique species may be incorrectly identified as the same species by the common population. \n",
    "        - We group by scientific name with a Lambda function to display the number of instances each scientific name is repeated. \n",
    "    - After reviewing a sample of duplicate entries in scientific name, there is no value in keeping these duplicate entries. We will drop the duplicates in our data cleansing. \n",
    "4. We perform a value count of category and conservation status to see the distribution of these columns.\n",
    "    - For conservation status, we see that the total count of all non healhy populations is less than 200, or under 3.5% of the total species count (including count of healthy populations). \n",
    "        - Because healthy populations are represented by Nan, we explicitly count this separately from the non-null values.\n",
    "        - Once we clean the data, we will see the true distribution count and percentage of conservation status.\n",
    "    - For category, we observe plants are over 80% of total species observed, with all animals consisting of the remaining 20%\n",
    "        - Would need to further research to confirm if this 4:1 ratio is to be expected in a natural habitat, or implies bias in the data collection process. "
   ]
  },
  {
   "cell_type": "code",
   "execution_count": 3,
   "metadata": {
    "tags": []
   },
   "outputs": [
    {
     "data": {
      "text/html": [
       "<div>\n",
       "<style scoped>\n",
       "    .dataframe tbody tr th:only-of-type {\n",
       "        vertical-align: middle;\n",
       "    }\n",
       "\n",
       "    .dataframe tbody tr th {\n",
       "        vertical-align: top;\n",
       "    }\n",
       "\n",
       "    .dataframe thead th {\n",
       "        text-align: right;\n",
       "    }\n",
       "</style>\n",
       "<table border=\"1\" class=\"dataframe\">\n",
       "  <thead>\n",
       "    <tr style=\"text-align: right;\">\n",
       "      <th></th>\n",
       "      <th>category</th>\n",
       "      <th>scientific_name</th>\n",
       "      <th>common_names</th>\n",
       "      <th>conservation_status</th>\n",
       "    </tr>\n",
       "  </thead>\n",
       "  <tbody>\n",
       "    <tr>\n",
       "      <th>0</th>\n",
       "      <td>Mammal</td>\n",
       "      <td>Clethrionomys gapperi gapperi</td>\n",
       "      <td>Gapper's Red-Backed Vole</td>\n",
       "      <td>NaN</td>\n",
       "    </tr>\n",
       "    <tr>\n",
       "      <th>1</th>\n",
       "      <td>Mammal</td>\n",
       "      <td>Bos bison</td>\n",
       "      <td>American Bison, Bison</td>\n",
       "      <td>NaN</td>\n",
       "    </tr>\n",
       "    <tr>\n",
       "      <th>2</th>\n",
       "      <td>Mammal</td>\n",
       "      <td>Bos taurus</td>\n",
       "      <td>Aurochs, Aurochs, Domestic Cattle (Feral), Dom...</td>\n",
       "      <td>NaN</td>\n",
       "    </tr>\n",
       "    <tr>\n",
       "      <th>3</th>\n",
       "      <td>Mammal</td>\n",
       "      <td>Ovis aries</td>\n",
       "      <td>Domestic Sheep, Mouflon, Red Sheep, Sheep (Feral)</td>\n",
       "      <td>NaN</td>\n",
       "    </tr>\n",
       "    <tr>\n",
       "      <th>4</th>\n",
       "      <td>Mammal</td>\n",
       "      <td>Cervus elaphus</td>\n",
       "      <td>Wapiti Or Elk</td>\n",
       "      <td>NaN</td>\n",
       "    </tr>\n",
       "  </tbody>\n",
       "</table>\n",
       "</div>"
      ],
      "text/plain": [
       "  category                scientific_name   \n",
       "0   Mammal  Clethrionomys gapperi gapperi  \\\n",
       "1   Mammal                      Bos bison   \n",
       "2   Mammal                     Bos taurus   \n",
       "3   Mammal                     Ovis aries   \n",
       "4   Mammal                 Cervus elaphus   \n",
       "\n",
       "                                        common_names conservation_status  \n",
       "0                           Gapper's Red-Backed Vole                 NaN  \n",
       "1                              American Bison, Bison                 NaN  \n",
       "2  Aurochs, Aurochs, Domestic Cattle (Feral), Dom...                 NaN  \n",
       "3  Domestic Sheep, Mouflon, Red Sheep, Sheep (Feral)                 NaN  \n",
       "4                                      Wapiti Or Elk                 NaN  "
      ]
     },
     "execution_count": 3,
     "metadata": {},
     "output_type": "execute_result"
    }
   ],
   "source": [
    "species.head()"
   ]
  },
  {
   "cell_type": "code",
   "execution_count": 25,
   "metadata": {
    "tags": []
   },
   "outputs": [
    {
     "data": {
      "text/html": [
       "<div>\n",
       "<style scoped>\n",
       "    .dataframe tbody tr th:only-of-type {\n",
       "        vertical-align: middle;\n",
       "    }\n",
       "\n",
       "    .dataframe tbody tr th {\n",
       "        vertical-align: top;\n",
       "    }\n",
       "\n",
       "    .dataframe thead th {\n",
       "        text-align: right;\n",
       "    }\n",
       "</style>\n",
       "<table border=\"1\" class=\"dataframe\">\n",
       "  <thead>\n",
       "    <tr style=\"text-align: right;\">\n",
       "      <th></th>\n",
       "      <th>category</th>\n",
       "      <th>scientific_name</th>\n",
       "      <th>common_names</th>\n",
       "      <th>conservation_status</th>\n",
       "    </tr>\n",
       "  </thead>\n",
       "  <tbody>\n",
       "    <tr>\n",
       "      <th>count</th>\n",
       "      <td>5824</td>\n",
       "      <td>5824</td>\n",
       "      <td>5824</td>\n",
       "      <td>191</td>\n",
       "    </tr>\n",
       "    <tr>\n",
       "      <th>unique</th>\n",
       "      <td>7</td>\n",
       "      <td>5541</td>\n",
       "      <td>5504</td>\n",
       "      <td>4</td>\n",
       "    </tr>\n",
       "    <tr>\n",
       "      <th>top</th>\n",
       "      <td>Vascular Plant</td>\n",
       "      <td>Castor canadensis</td>\n",
       "      <td>Brachythecium Moss</td>\n",
       "      <td>Species of Concern</td>\n",
       "    </tr>\n",
       "    <tr>\n",
       "      <th>freq</th>\n",
       "      <td>4470</td>\n",
       "      <td>3</td>\n",
       "      <td>7</td>\n",
       "      <td>161</td>\n",
       "    </tr>\n",
       "  </tbody>\n",
       "</table>\n",
       "</div>"
      ],
      "text/plain": [
       "              category    scientific_name        common_names   \n",
       "count             5824               5824                5824  \\\n",
       "unique               7               5541                5504   \n",
       "top     Vascular Plant  Castor canadensis  Brachythecium Moss   \n",
       "freq              4470                  3                   7   \n",
       "\n",
       "       conservation_status  \n",
       "count                  191  \n",
       "unique                   4  \n",
       "top     Species of Concern  \n",
       "freq                   161  "
      ]
     },
     "execution_count": 25,
     "metadata": {},
     "output_type": "execute_result"
    }
   ],
   "source": [
    "species.describe(include='all')"
   ]
  },
  {
   "cell_type": "code",
   "execution_count": 21,
   "metadata": {
    "tags": []
   },
   "outputs": [
    {
     "name": "stdout",
     "output_type": "stream",
     "text": [
      "Unique Categories: ['Mammal' 'Bird' 'Reptile' 'Amphibian' 'Fish' 'Vascular Plant'\n",
      " 'Nonvascular Plant']\n",
      "\n",
      "Unique Conservation Status: [nan 'Species of Concern' 'Endangered' 'Threatened' 'In Recovery']\n"
     ]
    }
   ],
   "source": [
    "print(f\"Unique Categories: {species.category.unique()}\")\n",
    "print()\n",
    "print(f\"Unique Conservation Status: {species.conservation_status.unique()}\")"
   ]
  },
  {
   "cell_type": "code",
   "execution_count": 5,
   "metadata": {
    "tags": []
   },
   "outputs": [
    {
     "name": "stdout",
     "output_type": "stream",
     "text": [
      "<class 'pandas.core.frame.DataFrame'>\n",
      "RangeIndex: 5824 entries, 0 to 5823\n",
      "Data columns (total 4 columns):\n",
      " #   Column               Non-Null Count  Dtype \n",
      "---  ------               --------------  ----- \n",
      " 0   category             5824 non-null   object\n",
      " 1   scientific_name      5824 non-null   object\n",
      " 2   common_names         5824 non-null   object\n",
      " 3   conservation_status  191 non-null    object\n",
      "dtypes: object(4)\n",
      "memory usage: 182.1+ KB\n"
     ]
    }
   ],
   "source": [
    "species.info()"
   ]
  },
  {
   "cell_type": "code",
   "execution_count": 28,
   "metadata": {
    "tags": []
   },
   "outputs": [
    {
     "data": {
      "text/html": [
       "<style type=\"text/css\">\n",
       "</style>\n",
       "<table id=\"T_1236b\" style='display:inline'>\n",
       "  <caption>Species Category Value Count</caption>\n",
       "  <thead>\n",
       "    <tr>\n",
       "      <th class=\"blank level0\" >&nbsp;</th>\n",
       "      <th id=\"T_1236b_level0_col0\" class=\"col_heading level0 col0\" ></th>\n",
       "    </tr>\n",
       "    <tr>\n",
       "      <th class=\"index_name level0\" >category</th>\n",
       "      <th class=\"blank col0\" >&nbsp;</th>\n",
       "    </tr>\n",
       "  </thead>\n",
       "  <tbody>\n",
       "    <tr>\n",
       "      <th id=\"T_1236b_level0_row0\" class=\"row_heading level0 row0\" >Vascular Plant</th>\n",
       "      <td id=\"T_1236b_row0_col0\" class=\"data row0 col0\" >4470</td>\n",
       "    </tr>\n",
       "    <tr>\n",
       "      <th id=\"T_1236b_level0_row1\" class=\"row_heading level0 row1\" >Bird</th>\n",
       "      <td id=\"T_1236b_row1_col0\" class=\"data row1 col0\" >521</td>\n",
       "    </tr>\n",
       "    <tr>\n",
       "      <th id=\"T_1236b_level0_row2\" class=\"row_heading level0 row2\" >Nonvascular Plant</th>\n",
       "      <td id=\"T_1236b_row2_col0\" class=\"data row2 col0\" >333</td>\n",
       "    </tr>\n",
       "    <tr>\n",
       "      <th id=\"T_1236b_level0_row3\" class=\"row_heading level0 row3\" >Mammal</th>\n",
       "      <td id=\"T_1236b_row3_col0\" class=\"data row3 col0\" >214</td>\n",
       "    </tr>\n",
       "    <tr>\n",
       "      <th id=\"T_1236b_level0_row4\" class=\"row_heading level0 row4\" >Fish</th>\n",
       "      <td id=\"T_1236b_row4_col0\" class=\"data row4 col0\" >127</td>\n",
       "    </tr>\n",
       "    <tr>\n",
       "      <th id=\"T_1236b_level0_row5\" class=\"row_heading level0 row5\" >Amphibian</th>\n",
       "      <td id=\"T_1236b_row5_col0\" class=\"data row5 col0\" >80</td>\n",
       "    </tr>\n",
       "    <tr>\n",
       "      <th id=\"T_1236b_level0_row6\" class=\"row_heading level0 row6\" >Reptile</th>\n",
       "      <td id=\"T_1236b_row6_col0\" class=\"data row6 col0\" >79</td>\n",
       "    </tr>\n",
       "  </tbody>\n",
       "</table>\n",
       "<style type=\"text/css\">\n",
       "</style>\n",
       "<table id=\"T_6671c\" style='display:inline'>\n",
       "  <caption>Species Category Value Count Percentage</caption>\n",
       "  <thead>\n",
       "    <tr>\n",
       "      <th class=\"blank level0\" >&nbsp;</th>\n",
       "      <th id=\"T_6671c_level0_col0\" class=\"col_heading level0 col0\" ></th>\n",
       "    </tr>\n",
       "    <tr>\n",
       "      <th class=\"index_name level0\" >category</th>\n",
       "      <th class=\"blank col0\" >&nbsp;</th>\n",
       "    </tr>\n",
       "  </thead>\n",
       "  <tbody>\n",
       "    <tr>\n",
       "      <th id=\"T_6671c_level0_row0\" class=\"row_heading level0 row0\" >Vascular Plant</th>\n",
       "      <td id=\"T_6671c_row0_col0\" class=\"data row0 col0\" >76.751374</td>\n",
       "    </tr>\n",
       "    <tr>\n",
       "      <th id=\"T_6671c_level0_row1\" class=\"row_heading level0 row1\" >Bird</th>\n",
       "      <td id=\"T_6671c_row1_col0\" class=\"data row1 col0\" >8.945742</td>\n",
       "    </tr>\n",
       "    <tr>\n",
       "      <th id=\"T_6671c_level0_row2\" class=\"row_heading level0 row2\" >Nonvascular Plant</th>\n",
       "      <td id=\"T_6671c_row2_col0\" class=\"data row2 col0\" >5.717720</td>\n",
       "    </tr>\n",
       "    <tr>\n",
       "      <th id=\"T_6671c_level0_row3\" class=\"row_heading level0 row3\" >Mammal</th>\n",
       "      <td id=\"T_6671c_row3_col0\" class=\"data row3 col0\" >3.674451</td>\n",
       "    </tr>\n",
       "    <tr>\n",
       "      <th id=\"T_6671c_level0_row4\" class=\"row_heading level0 row4\" >Fish</th>\n",
       "      <td id=\"T_6671c_row4_col0\" class=\"data row4 col0\" >2.180632</td>\n",
       "    </tr>\n",
       "    <tr>\n",
       "      <th id=\"T_6671c_level0_row5\" class=\"row_heading level0 row5\" >Amphibian</th>\n",
       "      <td id=\"T_6671c_row5_col0\" class=\"data row5 col0\" >1.373626</td>\n",
       "    </tr>\n",
       "    <tr>\n",
       "      <th id=\"T_6671c_level0_row6\" class=\"row_heading level0 row6\" >Reptile</th>\n",
       "      <td id=\"T_6671c_row6_col0\" class=\"data row6 col0\" >1.356456</td>\n",
       "    </tr>\n",
       "  </tbody>\n",
       "</table>\n"
      ]
     },
     "metadata": {},
     "output_type": "display_data"
    }
   ],
   "source": [
    "df1 = species.category.value_counts().to_frame(name = '')\n",
    "df2 = species.category.value_counts(normalize = True).to_frame(name = '') * 100\n",
    "\n",
    "df1_styler = df1.style.set_table_attributes(\"style='display:inline'\").set_caption('Species Category Value Count')\n",
    "df2_styler = df2.style.set_table_attributes(\"style='display:inline'\").set_caption('Species Category Value Count Percentage')\n",
    "\n",
    "display_html(df1_styler._repr_html_()+df2_styler._repr_html_(), raw=True)"
   ]
  },
  {
   "cell_type": "code",
   "execution_count": 13,
   "metadata": {
    "tags": []
   },
   "outputs": [
    {
     "name": "stdout",
     "output_type": "stream",
     "text": [
      "Nan Value count for conservation status: 5633\n"
     ]
    }
   ],
   "source": [
    "print(f\"Nan Value count for conservation status: {species.conservation_status.isna().sum()}\")"
   ]
  },
  {
   "cell_type": "code",
   "execution_count": 12,
   "metadata": {
    "tags": []
   },
   "outputs": [
    {
     "data": {
      "text/plain": [
       "conservation_status\n",
       "Species of Concern    161\n",
       "Endangered             16\n",
       "Threatened             10\n",
       "In Recovery             4\n",
       "Name: count, dtype: int64"
      ]
     },
     "execution_count": 12,
     "metadata": {},
     "output_type": "execute_result"
    }
   ],
   "source": [
    "species.conservation_status.value_counts()"
   ]
  },
  {
   "cell_type": "code",
   "execution_count": 37,
   "metadata": {
    "tags": []
   },
   "outputs": [
    {
     "data": {
      "text/plain": [
       "scientific_name\n",
       "Agrostis capillaris                 2\n",
       "Panicum capillare                   2\n",
       "Panicum miliaceum                   2\n",
       "Panicum rigidulum var. rigidulum    2\n",
       "Parietaria pensylvanica             2\n",
       "                                   ..\n",
       "Myotis lucifugus                    3\n",
       "Columba livia                       3\n",
       "Holcus lanatus                      3\n",
       "Streptopelia decaocto               3\n",
       "Canis lupus                         3\n",
       "Length: 274, dtype: int64"
      ]
     },
     "execution_count": 37,
     "metadata": {},
     "output_type": "execute_result"
    }
   ],
   "source": [
    "species.groupby(\"scientific_name\").size().loc[lambda x: x > 1].sort_values()"
   ]
  },
  {
   "cell_type": "code",
   "execution_count": 31,
   "metadata": {
    "tags": []
   },
   "outputs": [
    {
     "data": {
      "text/html": [
       "<style type=\"text/css\">\n",
       "</style>\n",
       "<table id=\"T_80a44\" style='display:inline'>\n",
       "  <caption>Myotis lucifugus Duplicates</caption>\n",
       "  <thead>\n",
       "    <tr>\n",
       "      <th class=\"blank level0\" >&nbsp;</th>\n",
       "      <th id=\"T_80a44_level0_col0\" class=\"col_heading level0 col0\" >category</th>\n",
       "      <th id=\"T_80a44_level0_col1\" class=\"col_heading level0 col1\" >scientific_name</th>\n",
       "      <th id=\"T_80a44_level0_col2\" class=\"col_heading level0 col2\" >common_names</th>\n",
       "      <th id=\"T_80a44_level0_col3\" class=\"col_heading level0 col3\" >conservation_status</th>\n",
       "    </tr>\n",
       "  </thead>\n",
       "  <tbody>\n",
       "    <tr>\n",
       "      <th id=\"T_80a44_level0_row0\" class=\"row_heading level0 row0\" >37</th>\n",
       "      <td id=\"T_80a44_row0_col0\" class=\"data row0 col0\" >Mammal</td>\n",
       "      <td id=\"T_80a44_row0_col1\" class=\"data row0 col1\" >Myotis lucifugus</td>\n",
       "      <td id=\"T_80a44_row0_col2\" class=\"data row0 col2\" >Little Brown Bat, Little Brown Myotis</td>\n",
       "      <td id=\"T_80a44_row0_col3\" class=\"data row0 col3\" >Species of Concern</td>\n",
       "    </tr>\n",
       "    <tr>\n",
       "      <th id=\"T_80a44_level0_row1\" class=\"row_heading level0 row1\" >3042</th>\n",
       "      <td id=\"T_80a44_row1_col0\" class=\"data row1 col0\" >Mammal</td>\n",
       "      <td id=\"T_80a44_row1_col1\" class=\"data row1 col1\" >Myotis lucifugus</td>\n",
       "      <td id=\"T_80a44_row1_col2\" class=\"data row1 col2\" >Little Brown Bat, Little Brown Myotis, Little Brown Myotis</td>\n",
       "      <td id=\"T_80a44_row1_col3\" class=\"data row1 col3\" >Species of Concern</td>\n",
       "    </tr>\n",
       "    <tr>\n",
       "      <th id=\"T_80a44_level0_row2\" class=\"row_heading level0 row2\" >4467</th>\n",
       "      <td id=\"T_80a44_row2_col0\" class=\"data row2 col0\" >Mammal</td>\n",
       "      <td id=\"T_80a44_row2_col1\" class=\"data row2 col1\" >Myotis lucifugus</td>\n",
       "      <td id=\"T_80a44_row2_col2\" class=\"data row2 col2\" >Little Brown Myotis</td>\n",
       "      <td id=\"T_80a44_row2_col3\" class=\"data row2 col3\" >Species of Concern</td>\n",
       "    </tr>\n",
       "  </tbody>\n",
       "</table>\n",
       "<style type=\"text/css\">\n",
       "</style>\n",
       "<table id=\"T_8c87b\" style='display:inline'>\n",
       "  <caption>Streptopelia decaocto Duplicates</caption>\n",
       "  <thead>\n",
       "    <tr>\n",
       "      <th class=\"blank level0\" >&nbsp;</th>\n",
       "      <th id=\"T_8c87b_level0_col0\" class=\"col_heading level0 col0\" >category</th>\n",
       "      <th id=\"T_8c87b_level0_col1\" class=\"col_heading level0 col1\" >scientific_name</th>\n",
       "      <th id=\"T_8c87b_level0_col2\" class=\"col_heading level0 col2\" >common_names</th>\n",
       "      <th id=\"T_8c87b_level0_col3\" class=\"col_heading level0 col3\" >conservation_status</th>\n",
       "    </tr>\n",
       "  </thead>\n",
       "  <tbody>\n",
       "    <tr>\n",
       "      <th id=\"T_8c87b_level0_row0\" class=\"row_heading level0 row0\" >3077</th>\n",
       "      <td id=\"T_8c87b_row0_col0\" class=\"data row0 col0\" >Bird</td>\n",
       "      <td id=\"T_8c87b_row0_col1\" class=\"data row0 col1\" >Streptopelia decaocto</td>\n",
       "      <td id=\"T_8c87b_row0_col2\" class=\"data row0 col2\" >Eurasian Collared-Dove</td>\n",
       "      <td id=\"T_8c87b_row0_col3\" class=\"data row0 col3\" >nan</td>\n",
       "    </tr>\n",
       "    <tr>\n",
       "      <th id=\"T_8c87b_level0_row1\" class=\"row_heading level0 row1\" >3140</th>\n",
       "      <td id=\"T_8c87b_row1_col0\" class=\"data row1 col0\" >Bird</td>\n",
       "      <td id=\"T_8c87b_row1_col1\" class=\"data row1 col1\" >Streptopelia decaocto</td>\n",
       "      <td id=\"T_8c87b_row1_col2\" class=\"data row1 col2\" >Eurasian Collared Dove, Eurasian Collared-Dove</td>\n",
       "      <td id=\"T_8c87b_row1_col3\" class=\"data row1 col3\" >nan</td>\n",
       "    </tr>\n",
       "    <tr>\n",
       "      <th id=\"T_8c87b_level0_row2\" class=\"row_heading level0 row2\" >4514</th>\n",
       "      <td id=\"T_8c87b_row2_col0\" class=\"data row2 col0\" >Bird</td>\n",
       "      <td id=\"T_8c87b_row2_col1\" class=\"data row2 col1\" >Streptopelia decaocto</td>\n",
       "      <td id=\"T_8c87b_row2_col2\" class=\"data row2 col2\" >Eurasian Collared Dove</td>\n",
       "      <td id=\"T_8c87b_row2_col3\" class=\"data row2 col3\" >nan</td>\n",
       "    </tr>\n",
       "  </tbody>\n",
       "</table>\n"
      ]
     },
     "metadata": {},
     "output_type": "display_data"
    }
   ],
   "source": [
    "df3 = species[species[\"scientific_name\"] == \"Myotis lucifugus\"]\n",
    "df4 = species[species[\"scientific_name\"] == \"Streptopelia decaocto\"]\n",
    "\n",
    "df3_styler = df3.style.set_table_attributes(\"style='display:inline'\").set_caption(\"Myotis lucifugus Duplicates\")\n",
    "df4_styler = df4.style.set_table_attributes(\"style='display:inline'\").set_caption(\"Streptopelia decaocto Duplicates\")\n",
    "\n",
    "display_html(df3_styler._repr_html_()+df4_styler._repr_html_(), raw=True)"
   ]
  },
  {
   "cell_type": "markdown",
   "metadata": {
    "jp-MarkdownHeadingCollapsed": true,
    "tags": []
   },
   "source": [
    "## Exploring Observations Dataframe"
   ]
  },
  {
   "cell_type": "markdown",
   "metadata": {},
   "source": [
    "In exploring the observations dataframe, we observe this about the data:\n",
    "1. The scientific name unique entries of 5541 matches our species dataframe. \n",
    "    - We can join both dataframes on the scientific_name column\n",
    "2. We see every column has the same non-null count of 23,296. \n",
    "    - This infers every observation is a complete entry (no null entries), consisting of both a park name and the scientific name.\n",
    "3. We see the observation count per park is 5824 for all four parks exactly.\n",
    "    - This implies a limit on data collection for the number of entries per park. \n",
    "        - It is possible that relevant data was not included due to this limit.\n",
    "    - Each park has more entries than the total unique scientific names.\n",
    "        - If every park had every unique species, that would equate to 22,164 observations at the maximum. \n",
    "        - When we group by scientific name over 4 entries, we see there are 274 duplicates to account for.\n",
    "4. While the average of obervations per species is 142, the standard deviation is quite high at just about half the mean. \n",
    "    - Additionally, the min is 9 and the max is 321. This is quite a wide range.\n",
    "        - Perhaps some species were simply more difficult to observe during the survey window. \n",
    "5. We observe duplicate/problematic data when we review the count of scientific name entries.\n",
    "    - We see some species have up to 12 unique entries. The maximum should be 4, as each species can exist in all 4 parks. \n",
    "        - The best guess inference for this is that multiple volunteeers/workers were counting their observations. These observations were entered in separately, vs. being summed and entered as one entry. \n",
    "    - We will proceed to add the total entries for each species per each park when there are multiple entries.\n",
    "        - We cannot simply drop duplicate entries, because that'll drop useful observation count data. Instead, we need to sum every duplicate scientific name and park name to find a total count for observations. \n",
    "    "
   ]
  },
  {
   "cell_type": "code",
   "execution_count": 40,
   "metadata": {
    "tags": []
   },
   "outputs": [
    {
     "data": {
      "text/html": [
       "<div>\n",
       "<style scoped>\n",
       "    .dataframe tbody tr th:only-of-type {\n",
       "        vertical-align: middle;\n",
       "    }\n",
       "\n",
       "    .dataframe tbody tr th {\n",
       "        vertical-align: top;\n",
       "    }\n",
       "\n",
       "    .dataframe thead th {\n",
       "        text-align: right;\n",
       "    }\n",
       "</style>\n",
       "<table border=\"1\" class=\"dataframe\">\n",
       "  <thead>\n",
       "    <tr style=\"text-align: right;\">\n",
       "      <th></th>\n",
       "      <th>scientific_name</th>\n",
       "      <th>park_name</th>\n",
       "      <th>observations</th>\n",
       "    </tr>\n",
       "  </thead>\n",
       "  <tbody>\n",
       "    <tr>\n",
       "      <th>0</th>\n",
       "      <td>Vicia benghalensis</td>\n",
       "      <td>Great Smoky Mountains National Park</td>\n",
       "      <td>68</td>\n",
       "    </tr>\n",
       "    <tr>\n",
       "      <th>1</th>\n",
       "      <td>Neovison vison</td>\n",
       "      <td>Great Smoky Mountains National Park</td>\n",
       "      <td>77</td>\n",
       "    </tr>\n",
       "    <tr>\n",
       "      <th>2</th>\n",
       "      <td>Prunus subcordata</td>\n",
       "      <td>Yosemite National Park</td>\n",
       "      <td>138</td>\n",
       "    </tr>\n",
       "    <tr>\n",
       "      <th>3</th>\n",
       "      <td>Abutilon theophrasti</td>\n",
       "      <td>Bryce National Park</td>\n",
       "      <td>84</td>\n",
       "    </tr>\n",
       "    <tr>\n",
       "      <th>4</th>\n",
       "      <td>Githopsis specularioides</td>\n",
       "      <td>Great Smoky Mountains National Park</td>\n",
       "      <td>85</td>\n",
       "    </tr>\n",
       "  </tbody>\n",
       "</table>\n",
       "</div>"
      ],
      "text/plain": [
       "            scientific_name                            park_name  observations\n",
       "0        Vicia benghalensis  Great Smoky Mountains National Park            68\n",
       "1            Neovison vison  Great Smoky Mountains National Park            77\n",
       "2         Prunus subcordata               Yosemite National Park           138\n",
       "3      Abutilon theophrasti                  Bryce National Park            84\n",
       "4  Githopsis specularioides  Great Smoky Mountains National Park            85"
      ]
     },
     "execution_count": 40,
     "metadata": {},
     "output_type": "execute_result"
    }
   ],
   "source": [
    "observations.head()"
   ]
  },
  {
   "cell_type": "code",
   "execution_count": 41,
   "metadata": {
    "tags": []
   },
   "outputs": [
    {
     "data": {
      "text/html": [
       "<div>\n",
       "<style scoped>\n",
       "    .dataframe tbody tr th:only-of-type {\n",
       "        vertical-align: middle;\n",
       "    }\n",
       "\n",
       "    .dataframe tbody tr th {\n",
       "        vertical-align: top;\n",
       "    }\n",
       "\n",
       "    .dataframe thead th {\n",
       "        text-align: right;\n",
       "    }\n",
       "</style>\n",
       "<table border=\"1\" class=\"dataframe\">\n",
       "  <thead>\n",
       "    <tr style=\"text-align: right;\">\n",
       "      <th></th>\n",
       "      <th>scientific_name</th>\n",
       "      <th>park_name</th>\n",
       "      <th>observations</th>\n",
       "    </tr>\n",
       "  </thead>\n",
       "  <tbody>\n",
       "    <tr>\n",
       "      <th>count</th>\n",
       "      <td>23296</td>\n",
       "      <td>23296</td>\n",
       "      <td>23296.000000</td>\n",
       "    </tr>\n",
       "    <tr>\n",
       "      <th>unique</th>\n",
       "      <td>5541</td>\n",
       "      <td>4</td>\n",
       "      <td>NaN</td>\n",
       "    </tr>\n",
       "    <tr>\n",
       "      <th>top</th>\n",
       "      <td>Myotis lucifugus</td>\n",
       "      <td>Great Smoky Mountains National Park</td>\n",
       "      <td>NaN</td>\n",
       "    </tr>\n",
       "    <tr>\n",
       "      <th>freq</th>\n",
       "      <td>12</td>\n",
       "      <td>5824</td>\n",
       "      <td>NaN</td>\n",
       "    </tr>\n",
       "    <tr>\n",
       "      <th>mean</th>\n",
       "      <td>NaN</td>\n",
       "      <td>NaN</td>\n",
       "      <td>142.287904</td>\n",
       "    </tr>\n",
       "    <tr>\n",
       "      <th>std</th>\n",
       "      <td>NaN</td>\n",
       "      <td>NaN</td>\n",
       "      <td>69.890532</td>\n",
       "    </tr>\n",
       "    <tr>\n",
       "      <th>min</th>\n",
       "      <td>NaN</td>\n",
       "      <td>NaN</td>\n",
       "      <td>9.000000</td>\n",
       "    </tr>\n",
       "    <tr>\n",
       "      <th>25%</th>\n",
       "      <td>NaN</td>\n",
       "      <td>NaN</td>\n",
       "      <td>86.000000</td>\n",
       "    </tr>\n",
       "    <tr>\n",
       "      <th>50%</th>\n",
       "      <td>NaN</td>\n",
       "      <td>NaN</td>\n",
       "      <td>124.000000</td>\n",
       "    </tr>\n",
       "    <tr>\n",
       "      <th>75%</th>\n",
       "      <td>NaN</td>\n",
       "      <td>NaN</td>\n",
       "      <td>195.000000</td>\n",
       "    </tr>\n",
       "    <tr>\n",
       "      <th>max</th>\n",
       "      <td>NaN</td>\n",
       "      <td>NaN</td>\n",
       "      <td>321.000000</td>\n",
       "    </tr>\n",
       "  </tbody>\n",
       "</table>\n",
       "</div>"
      ],
      "text/plain": [
       "         scientific_name                            park_name  observations\n",
       "count              23296                                23296  23296.000000\n",
       "unique              5541                                    4           NaN\n",
       "top     Myotis lucifugus  Great Smoky Mountains National Park           NaN\n",
       "freq                  12                                 5824           NaN\n",
       "mean                 NaN                                  NaN    142.287904\n",
       "std                  NaN                                  NaN     69.890532\n",
       "min                  NaN                                  NaN      9.000000\n",
       "25%                  NaN                                  NaN     86.000000\n",
       "50%                  NaN                                  NaN    124.000000\n",
       "75%                  NaN                                  NaN    195.000000\n",
       "max                  NaN                                  NaN    321.000000"
      ]
     },
     "execution_count": 41,
     "metadata": {},
     "output_type": "execute_result"
    }
   ],
   "source": [
    "observations.describe(include = 'all')"
   ]
  },
  {
   "cell_type": "code",
   "execution_count": 42,
   "metadata": {
    "tags": []
   },
   "outputs": [
    {
     "name": "stdout",
     "output_type": "stream",
     "text": [
      "<class 'pandas.core.frame.DataFrame'>\n",
      "RangeIndex: 23296 entries, 0 to 23295\n",
      "Data columns (total 3 columns):\n",
      " #   Column           Non-Null Count  Dtype \n",
      "---  ------           --------------  ----- \n",
      " 0   scientific_name  23296 non-null  object\n",
      " 1   park_name        23296 non-null  object\n",
      " 2   observations     23296 non-null  int64 \n",
      "dtypes: int64(1), object(2)\n",
      "memory usage: 546.1+ KB\n"
     ]
    }
   ],
   "source": [
    "observations.info()"
   ]
  },
  {
   "cell_type": "code",
   "execution_count": 43,
   "metadata": {
    "tags": []
   },
   "outputs": [
    {
     "name": "stdout",
     "output_type": "stream",
     "text": [
      "Unique Park Names: ['Great Smoky Mountains National Park' 'Yosemite National Park'\n",
      " 'Bryce National Park' 'Yellowstone National Park']\n"
     ]
    }
   ],
   "source": [
    "print(f\"Unique Park Names: {observations.park_name.unique()}\")"
   ]
  },
  {
   "cell_type": "code",
   "execution_count": 27,
   "metadata": {
    "tags": []
   },
   "outputs": [
    {
     "data": {
      "text/plain": [
       "park_name\n",
       "Great Smoky Mountains National Park    5824\n",
       "Yosemite National Park                 5824\n",
       "Bryce National Park                    5824\n",
       "Yellowstone National Park              5824\n",
       "Name: count, dtype: int64"
      ]
     },
     "execution_count": 27,
     "metadata": {},
     "output_type": "execute_result"
    }
   ],
   "source": [
    "observations.park_name.value_counts()"
   ]
  },
  {
   "cell_type": "code",
   "execution_count": 34,
   "metadata": {
    "tags": []
   },
   "outputs": [
    {
     "data": {
      "text/plain": [
       "scientific_name\n",
       "Agrostis capillaris                  8\n",
       "Panicum capillare                    8\n",
       "Panicum miliaceum                    8\n",
       "Panicum rigidulum var. rigidulum     8\n",
       "Parietaria pensylvanica              8\n",
       "                                    ..\n",
       "Myotis lucifugus                    12\n",
       "Columba livia                       12\n",
       "Holcus lanatus                      12\n",
       "Streptopelia decaocto               12\n",
       "Canis lupus                         12\n",
       "Length: 274, dtype: int64"
      ]
     },
     "execution_count": 34,
     "metadata": {},
     "output_type": "execute_result"
    }
   ],
   "source": [
    "observations.groupby(\"scientific_name\").size().loc[lambda x: x > 4].sort_values()"
   ]
  },
  {
   "cell_type": "code",
   "execution_count": 33,
   "metadata": {
    "tags": []
   },
   "outputs": [
    {
     "data": {
      "text/html": [
       "<style type=\"text/css\">\n",
       "</style>\n",
       "<table id=\"T_2dd15\" style='display:inline'>\n",
       "  <caption>Columba livia Duplicates</caption>\n",
       "  <thead>\n",
       "    <tr>\n",
       "      <th class=\"blank level0\" >&nbsp;</th>\n",
       "      <th id=\"T_2dd15_level0_col0\" class=\"col_heading level0 col0\" >scientific_name</th>\n",
       "      <th id=\"T_2dd15_level0_col1\" class=\"col_heading level0 col1\" >park_name</th>\n",
       "      <th id=\"T_2dd15_level0_col2\" class=\"col_heading level0 col2\" >observations</th>\n",
       "    </tr>\n",
       "  </thead>\n",
       "  <tbody>\n",
       "    <tr>\n",
       "      <th id=\"T_2dd15_level0_row0\" class=\"row_heading level0 row0\" >1865</th>\n",
       "      <td id=\"T_2dd15_row0_col0\" class=\"data row0 col0\" >Columba livia</td>\n",
       "      <td id=\"T_2dd15_row0_col1\" class=\"data row0 col1\" >Bryce National Park</td>\n",
       "      <td id=\"T_2dd15_row0_col2\" class=\"data row0 col2\" >135</td>\n",
       "    </tr>\n",
       "    <tr>\n",
       "      <th id=\"T_2dd15_level0_row1\" class=\"row_heading level0 row1\" >2191</th>\n",
       "      <td id=\"T_2dd15_row1_col0\" class=\"data row1 col0\" >Columba livia</td>\n",
       "      <td id=\"T_2dd15_row1_col1\" class=\"data row1 col1\" >Yellowstone National Park</td>\n",
       "      <td id=\"T_2dd15_row1_col2\" class=\"data row1 col2\" >251</td>\n",
       "    </tr>\n",
       "    <tr>\n",
       "      <th id=\"T_2dd15_level0_row2\" class=\"row_heading level0 row2\" >3255</th>\n",
       "      <td id=\"T_2dd15_row2_col0\" class=\"data row2 col0\" >Columba livia</td>\n",
       "      <td id=\"T_2dd15_row2_col1\" class=\"data row2 col1\" >Yosemite National Park</td>\n",
       "      <td id=\"T_2dd15_row2_col2\" class=\"data row2 col2\" >142</td>\n",
       "    </tr>\n",
       "    <tr>\n",
       "      <th id=\"T_2dd15_level0_row3\" class=\"row_heading level0 row3\" >3441</th>\n",
       "      <td id=\"T_2dd15_row3_col0\" class=\"data row3 col0\" >Columba livia</td>\n",
       "      <td id=\"T_2dd15_row3_col1\" class=\"data row3 col1\" >Bryce National Park</td>\n",
       "      <td id=\"T_2dd15_row3_col2\" class=\"data row3 col2\" >96</td>\n",
       "    </tr>\n",
       "    <tr>\n",
       "      <th id=\"T_2dd15_level0_row4\" class=\"row_heading level0 row4\" >6968</th>\n",
       "      <td id=\"T_2dd15_row4_col0\" class=\"data row4 col0\" >Columba livia</td>\n",
       "      <td id=\"T_2dd15_row4_col1\" class=\"data row4 col1\" >Bryce National Park</td>\n",
       "      <td id=\"T_2dd15_row4_col2\" class=\"data row4 col2\" >108</td>\n",
       "    </tr>\n",
       "    <tr>\n",
       "      <th id=\"T_2dd15_level0_row5\" class=\"row_heading level0 row5\" >10468</th>\n",
       "      <td id=\"T_2dd15_row5_col0\" class=\"data row5 col0\" >Columba livia</td>\n",
       "      <td id=\"T_2dd15_row5_col1\" class=\"data row5 col1\" >Yosemite National Park</td>\n",
       "      <td id=\"T_2dd15_row5_col2\" class=\"data row5 col2\" >144</td>\n",
       "    </tr>\n",
       "    <tr>\n",
       "      <th id=\"T_2dd15_level0_row6\" class=\"row_heading level0 row6\" >10688</th>\n",
       "      <td id=\"T_2dd15_row6_col0\" class=\"data row6 col0\" >Columba livia</td>\n",
       "      <td id=\"T_2dd15_row6_col1\" class=\"data row6 col1\" >Yellowstone National Park</td>\n",
       "      <td id=\"T_2dd15_row6_col2\" class=\"data row6 col2\" >232</td>\n",
       "    </tr>\n",
       "    <tr>\n",
       "      <th id=\"T_2dd15_level0_row7\" class=\"row_heading level0 row7\" >11193</th>\n",
       "      <td id=\"T_2dd15_row7_col0\" class=\"data row7 col0\" >Columba livia</td>\n",
       "      <td id=\"T_2dd15_row7_col1\" class=\"data row7 col1\" >Yellowstone National Park</td>\n",
       "      <td id=\"T_2dd15_row7_col2\" class=\"data row7 col2\" >239</td>\n",
       "    </tr>\n",
       "    <tr>\n",
       "      <th id=\"T_2dd15_level0_row8\" class=\"row_heading level0 row8\" >11859</th>\n",
       "      <td id=\"T_2dd15_row8_col0\" class=\"data row8 col0\" >Columba livia</td>\n",
       "      <td id=\"T_2dd15_row8_col1\" class=\"data row8 col1\" >Great Smoky Mountains National Park</td>\n",
       "      <td id=\"T_2dd15_row8_col2\" class=\"data row8 col2\" >44</td>\n",
       "    </tr>\n",
       "    <tr>\n",
       "      <th id=\"T_2dd15_level0_row9\" class=\"row_heading level0 row9\" >12700</th>\n",
       "      <td id=\"T_2dd15_row9_col0\" class=\"data row9 col0\" >Columba livia</td>\n",
       "      <td id=\"T_2dd15_row9_col1\" class=\"data row9 col1\" >Great Smoky Mountains National Park</td>\n",
       "      <td id=\"T_2dd15_row9_col2\" class=\"data row9 col2\" >34</td>\n",
       "    </tr>\n",
       "    <tr>\n",
       "      <th id=\"T_2dd15_level0_row10\" class=\"row_heading level0 row10\" >13448</th>\n",
       "      <td id=\"T_2dd15_row10_col0\" class=\"data row10 col0\" >Columba livia</td>\n",
       "      <td id=\"T_2dd15_row10_col1\" class=\"data row10 col1\" >Great Smoky Mountains National Park</td>\n",
       "      <td id=\"T_2dd15_row10_col2\" class=\"data row10 col2\" >91</td>\n",
       "    </tr>\n",
       "    <tr>\n",
       "      <th id=\"T_2dd15_level0_row11\" class=\"row_heading level0 row11\" >17928</th>\n",
       "      <td id=\"T_2dd15_row11_col0\" class=\"data row11 col0\" >Columba livia</td>\n",
       "      <td id=\"T_2dd15_row11_col1\" class=\"data row11 col1\" >Yosemite National Park</td>\n",
       "      <td id=\"T_2dd15_row11_col2\" class=\"data row11 col2\" >137</td>\n",
       "    </tr>\n",
       "  </tbody>\n",
       "</table>\n",
       "<style type=\"text/css\">\n",
       "</style>\n",
       "<table id=\"T_12745\" style='display:inline'>\n",
       "  <caption>Streptopelia decaocto Duplicates</caption>\n",
       "  <thead>\n",
       "    <tr>\n",
       "      <th class=\"blank level0\" >&nbsp;</th>\n",
       "      <th id=\"T_12745_level0_col0\" class=\"col_heading level0 col0\" >scientific_name</th>\n",
       "      <th id=\"T_12745_level0_col1\" class=\"col_heading level0 col1\" >park_name</th>\n",
       "      <th id=\"T_12745_level0_col2\" class=\"col_heading level0 col2\" >observations</th>\n",
       "    </tr>\n",
       "  </thead>\n",
       "  <tbody>\n",
       "    <tr>\n",
       "      <th id=\"T_12745_level0_row0\" class=\"row_heading level0 row0\" >1635</th>\n",
       "      <td id=\"T_12745_row0_col0\" class=\"data row0 col0\" >Streptopelia decaocto</td>\n",
       "      <td id=\"T_12745_row0_col1\" class=\"data row0 col1\" >Yellowstone National Park</td>\n",
       "      <td id=\"T_12745_row0_col2\" class=\"data row0 col2\" >255</td>\n",
       "    </tr>\n",
       "    <tr>\n",
       "      <th id=\"T_12745_level0_row1\" class=\"row_heading level0 row1\" >3200</th>\n",
       "      <td id=\"T_12745_row1_col0\" class=\"data row1 col0\" >Streptopelia decaocto</td>\n",
       "      <td id=\"T_12745_row1_col1\" class=\"data row1 col1\" >Bryce National Park</td>\n",
       "      <td id=\"T_12745_row1_col2\" class=\"data row1 col2\" >92</td>\n",
       "    </tr>\n",
       "    <tr>\n",
       "      <th id=\"T_12745_level0_row2\" class=\"row_heading level0 row2\" >3376</th>\n",
       "      <td id=\"T_12745_row2_col0\" class=\"data row2 col0\" >Streptopelia decaocto</td>\n",
       "      <td id=\"T_12745_row2_col1\" class=\"data row2 col1\" >Yosemite National Park</td>\n",
       "      <td id=\"T_12745_row2_col2\" class=\"data row2 col2\" >124</td>\n",
       "    </tr>\n",
       "    <tr>\n",
       "      <th id=\"T_12745_level0_row3\" class=\"row_heading level0 row3\" >4515</th>\n",
       "      <td id=\"T_12745_row3_col0\" class=\"data row3 col0\" >Streptopelia decaocto</td>\n",
       "      <td id=\"T_12745_row3_col1\" class=\"data row3 col1\" >Bryce National Park</td>\n",
       "      <td id=\"T_12745_row3_col2\" class=\"data row3 col2\" >88</td>\n",
       "    </tr>\n",
       "    <tr>\n",
       "      <th id=\"T_12745_level0_row4\" class=\"row_heading level0 row4\" >7057</th>\n",
       "      <td id=\"T_12745_row4_col0\" class=\"data row4 col0\" >Streptopelia decaocto</td>\n",
       "      <td id=\"T_12745_row4_col1\" class=\"data row4 col1\" >Great Smoky Mountains National Park</td>\n",
       "      <td id=\"T_12745_row4_col2\" class=\"data row4 col2\" >74</td>\n",
       "    </tr>\n",
       "    <tr>\n",
       "      <th id=\"T_12745_level0_row5\" class=\"row_heading level0 row5\" >8072</th>\n",
       "      <td id=\"T_12745_row5_col0\" class=\"data row5 col0\" >Streptopelia decaocto</td>\n",
       "      <td id=\"T_12745_row5_col1\" class=\"data row5 col1\" >Bryce National Park</td>\n",
       "      <td id=\"T_12745_row5_col2\" class=\"data row5 col2\" >121</td>\n",
       "    </tr>\n",
       "    <tr>\n",
       "      <th id=\"T_12745_level0_row6\" class=\"row_heading level0 row6\" >8710</th>\n",
       "      <td id=\"T_12745_row6_col0\" class=\"data row6 col0\" >Streptopelia decaocto</td>\n",
       "      <td id=\"T_12745_row6_col1\" class=\"data row6 col1\" >Yellowstone National Park</td>\n",
       "      <td id=\"T_12745_row6_col2\" class=\"data row6 col2\" >255</td>\n",
       "    </tr>\n",
       "    <tr>\n",
       "      <th id=\"T_12745_level0_row7\" class=\"row_heading level0 row7\" >10107</th>\n",
       "      <td id=\"T_12745_row7_col0\" class=\"data row7 col0\" >Streptopelia decaocto</td>\n",
       "      <td id=\"T_12745_row7_col1\" class=\"data row7 col1\" >Great Smoky Mountains National Park</td>\n",
       "      <td id=\"T_12745_row7_col2\" class=\"data row7 col2\" >72</td>\n",
       "    </tr>\n",
       "    <tr>\n",
       "      <th id=\"T_12745_level0_row8\" class=\"row_heading level0 row8\" >10643</th>\n",
       "      <td id=\"T_12745_row8_col0\" class=\"data row8 col0\" >Streptopelia decaocto</td>\n",
       "      <td id=\"T_12745_row8_col1\" class=\"data row8 col1\" >Yellowstone National Park</td>\n",
       "      <td id=\"T_12745_row8_col2\" class=\"data row8 col2\" >261</td>\n",
       "    </tr>\n",
       "    <tr>\n",
       "      <th id=\"T_12745_level0_row9\" class=\"row_heading level0 row9\" >14699</th>\n",
       "      <td id=\"T_12745_row9_col0\" class=\"data row9 col0\" >Streptopelia decaocto</td>\n",
       "      <td id=\"T_12745_row9_col1\" class=\"data row9 col1\" >Great Smoky Mountains National Park</td>\n",
       "      <td id=\"T_12745_row9_col2\" class=\"data row9 col2\" >110</td>\n",
       "    </tr>\n",
       "    <tr>\n",
       "      <th id=\"T_12745_level0_row10\" class=\"row_heading level0 row10\" >14942</th>\n",
       "      <td id=\"T_12745_row10_col0\" class=\"data row10 col0\" >Streptopelia decaocto</td>\n",
       "      <td id=\"T_12745_row10_col1\" class=\"data row10 col1\" >Yosemite National Park</td>\n",
       "      <td id=\"T_12745_row10_col2\" class=\"data row10 col2\" >183</td>\n",
       "    </tr>\n",
       "    <tr>\n",
       "      <th id=\"T_12745_level0_row11\" class=\"row_heading level0 row11\" >18854</th>\n",
       "      <td id=\"T_12745_row11_col0\" class=\"data row11 col0\" >Streptopelia decaocto</td>\n",
       "      <td id=\"T_12745_row11_col1\" class=\"data row11 col1\" >Yosemite National Park</td>\n",
       "      <td id=\"T_12745_row11_col2\" class=\"data row11 col2\" >150</td>\n",
       "    </tr>\n",
       "  </tbody>\n",
       "</table>\n"
      ]
     },
     "metadata": {},
     "output_type": "display_data"
    }
   ],
   "source": [
    "df5 = observations[observations[\"scientific_name\"] == \"Columba livia\"]\n",
    "df6 = observations[observations[\"scientific_name\"] == \"Streptopelia decaocto\"]\n",
    "\n",
    "df5_styler = df5.style.set_table_attributes(\"style='display:inline'\").set_caption('Columba livia Duplicates')\n",
    "df6_styler = df6.style.set_table_attributes(\"style='display:inline'\").set_caption('Streptopelia decaocto Duplicates')\n",
    "\n",
    "display_html(df5_styler._repr_html_()+df6_styler._repr_html_(), raw=True)"
   ]
  },
  {
   "cell_type": "markdown",
   "metadata": {
    "tags": []
   },
   "source": [
    "## Cleaning the Data"
   ]
  },
  {
   "cell_type": "markdown",
   "metadata": {},
   "source": [
    "Implementing the below items will improve both readability and functionality of the data, making data analysis possible. \n",
    "\n",
    "For species dataframe:\n",
    "1. Create a 'healthy_population' conservation status to replace Nan values. \n",
    "2. Remove duplicate entries in scientific_name. \n",
    "    - We have 5824 total entries consisting of 5541 unique entries.\n",
    "    - This consolidation will remove 283 duplicate rows.\n",
    "    \n",
    "For observations dataframe:\n",
    "1. Combine duplicate scientific_name and park_name rows while adding the observation count of each.\n",
    "    1. Identify instances where scientific_name and park_name are the same.\n",
    "    2. Sum the observations counts in each duplicate row to obtain a total count of observations.\n",
    "    3. Write a unique entry row consisting of scientific_name, park_name, and observations (total).\n",
    "    4. Delete the previous duplicate rows, so only the unique row remains. "
   ]
  },
  {
   "cell_type": "code",
   "execution_count": null,
   "metadata": {},
   "outputs": [],
   "source": []
  }
 ],
 "metadata": {
  "kernelspec": {
   "display_name": "Python 3 (ipykernel)",
   "language": "python",
   "name": "python3"
  },
  "language_info": {
   "codemirror_mode": {
    "name": "ipython",
    "version": 3
   },
   "file_extension": ".py",
   "mimetype": "text/x-python",
   "name": "python",
   "nbconvert_exporter": "python",
   "pygments_lexer": "ipython3",
   "version": "3.11.3"
  }
 },
 "nbformat": 4,
 "nbformat_minor": 4
}
